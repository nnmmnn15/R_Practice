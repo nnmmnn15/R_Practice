{
 "cells": [
  {
   "cell_type": "code",
   "execution_count": 1,
   "metadata": {
    "vscode": {
     "languageId": "r"
    }
   },
   "outputs": [
    {
     "data": {
      "text/html": [
       "'ko_KR.UTF-8/ko_KR.UTF-8/ko_KR.UTF-8/C/ko_KR.UTF-8/C'"
      ],
      "text/latex": [
       "'ko\\_KR.UTF-8/ko\\_KR.UTF-8/ko\\_KR.UTF-8/C/ko\\_KR.UTF-8/C'"
      ],
      "text/markdown": [
       "'ko_KR.UTF-8/ko_KR.UTF-8/ko_KR.UTF-8/C/ko_KR.UTF-8/C'"
      ],
      "text/plain": [
       "[1] \"ko_KR.UTF-8/ko_KR.UTF-8/ko_KR.UTF-8/C/ko_KR.UTF-8/C\""
      ]
     },
     "metadata": {},
     "output_type": "display_data"
    }
   ],
   "source": [
    "Sys.setlocale(category = \"LC_ALL\", locale = \"ko_KR.UTF-8\")\n"
   ]
  },
  {
   "cell_type": "markdown",
   "metadata": {},
   "source": [
    "# 함수"
   ]
  },
  {
   "cell_type": "code",
   "execution_count": 2,
   "metadata": {
    "vscode": {
     "languageId": "r"
    }
   },
   "outputs": [
    {
     "data": {
      "text/html": [
       "<table class=\"dataframe\">\n",
       "<caption>A data.frame: 6 x 5</caption>\n",
       "<thead>\n",
       "\t<tr><th></th><th scope=col>A</th><th scope=col>B</th><th scope=col>C</th><th scope=col>D</th><th scope=col>E</th></tr>\n",
       "\t<tr><th></th><th scope=col>&lt;int&gt;</th><th scope=col>&lt;int&gt;</th><th scope=col>&lt;int&gt;</th><th scope=col>&lt;int&gt;</th><th scope=col>&lt;int&gt;</th></tr>\n",
       "</thead>\n",
       "<tbody>\n",
       "\t<tr><th scope=row>1</th><td>2</td><td>4</td><td>4</td><td>2</td><td>2</td></tr>\n",
       "\t<tr><th scope=row>2</th><td>1</td><td>2</td><td>2</td><td>2</td><td>2</td></tr>\n",
       "\t<tr><th scope=row>3</th><td>2</td><td>3</td><td>4</td><td>3</td><td>3</td></tr>\n",
       "\t<tr><th scope=row>4</th><td>3</td><td>5</td><td>5</td><td>3</td><td>3</td></tr>\n",
       "\t<tr><th scope=row>5</th><td>3</td><td>2</td><td>4</td><td>4</td><td>4</td></tr>\n",
       "\t<tr><th scope=row>6</th><td>4</td><td>3</td><td>3</td><td>4</td><td>2</td></tr>\n",
       "</tbody>\n",
       "</table>\n"
      ],
      "text/latex": [
       "A data.frame: 6 x 5\n",
       "\\begin{tabular}{r|lllll}\n",
       "  & A & B & C & D & E\\\\\n",
       "  & <int> & <int> & <int> & <int> & <int>\\\\\n",
       "\\hline\n",
       "\t1 & 2 & 4 & 4 & 2 & 2\\\\\n",
       "\t2 & 1 & 2 & 2 & 2 & 2\\\\\n",
       "\t3 & 2 & 3 & 4 & 3 & 3\\\\\n",
       "\t4 & 3 & 5 & 5 & 3 & 3\\\\\n",
       "\t5 & 3 & 2 & 4 & 4 & 4\\\\\n",
       "\t6 & 4 & 3 & 3 & 4 & 2\\\\\n",
       "\\end{tabular}\n"
      ],
      "text/markdown": [
       "\n",
       "A data.frame: 6 x 5\n",
       "\n",
       "| <!--/--> | A &lt;int&gt; | B &lt;int&gt; | C &lt;int&gt; | D &lt;int&gt; | E &lt;int&gt; |\n",
       "|---|---|---|---|---|---|\n",
       "| 1 | 2 | 4 | 4 | 2 | 2 |\n",
       "| 2 | 1 | 2 | 2 | 2 | 2 |\n",
       "| 3 | 2 | 3 | 4 | 3 | 3 |\n",
       "| 4 | 3 | 5 | 5 | 3 | 3 |\n",
       "| 5 | 3 | 2 | 4 | 4 | 4 |\n",
       "| 6 | 4 | 3 | 3 | 4 | 2 |\n",
       "\n"
      ],
      "text/plain": [
       "  A B C D E\n",
       "1 2 4 4 2 2\n",
       "2 1 2 2 2 2\n",
       "3 2 3 4 3 3\n",
       "4 3 5 5 3 3\n",
       "5 3 2 4 4 4\n",
       "6 4 3 3 4 2"
      ]
     },
     "metadata": {},
     "output_type": "display_data"
    }
   ],
   "source": [
    "test <- read.csv(\"../Data/test.csv\")\n",
    "head(test)"
   ]
  },
  {
   "cell_type": "code",
   "execution_count": 3,
   "metadata": {
    "vscode": {
     "languageId": "r"
    }
   },
   "outputs": [
    {
     "name": "stdout",
     "output_type": "stream",
     "text": [
      "'data.frame':\t402 obs. of  5 variables:\n",
      " $ A: int  2 1 2 3 3 4 3 4 4 4 ...\n",
      " $ B: int  4 2 3 5 2 3 4 2 4 2 ...\n",
      " $ C: int  4 2 4 5 4 3 4 4 5 4 ...\n",
      " $ D: int  2 2 3 3 4 4 2 4 3 2 ...\n",
      " $ E: int  2 2 3 3 4 2 2 4 4 3 ...\n"
     ]
    }
   ],
   "source": [
    "str(test)"
   ]
  },
  {
   "cell_type": "code",
   "execution_count": 4,
   "metadata": {
    "vscode": {
     "languageId": "r"
    }
   },
   "outputs": [
    {
     "data": {
      "text/plain": [
       "       A               B               C               D              E        \n",
       " Min.   :1.000   Min.   :1.000   Min.   :1.000   Min.   :1.00   Min.   :1.000  \n",
       " 1st Qu.:2.000   1st Qu.:2.000   1st Qu.:3.000   1st Qu.:2.00   1st Qu.:3.000  \n",
       " Median :3.000   Median :3.000   Median :4.000   Median :2.00   Median :4.000  \n",
       " Mean   :2.734   Mean   :2.908   Mean   :3.622   Mean   :2.51   Mean   :3.386  \n",
       " 3rd Qu.:3.000   3rd Qu.:4.000   3rd Qu.:4.000   3rd Qu.:3.00   3rd Qu.:4.000  \n",
       " Max.   :5.000   Max.   :5.000   Max.   :5.000   Max.   :4.00   Max.   :5.000  "
      ]
     },
     "metadata": {},
     "output_type": "display_data"
    }
   ],
   "source": [
    "summary(test)"
   ]
  },
  {
   "cell_type": "code",
   "execution_count": 7,
   "metadata": {
    "vscode": {
     "languageId": "r"
    }
   },
   "outputs": [
    {
     "data": {
      "text/html": [
       "5"
      ],
      "text/latex": [
       "5"
      ],
      "text/markdown": [
       "5"
      ],
      "text/plain": [
       "[1] 5"
      ]
     },
     "metadata": {},
     "output_type": "display_data"
    },
    {
     "data": {
      "text/html": [
       "1"
      ],
      "text/latex": [
       "1"
      ],
      "text/markdown": [
       "1"
      ],
      "text/plain": [
       "[1] 1"
      ]
     },
     "metadata": {},
     "output_type": "display_data"
    },
    {
     "data": {
      "text/plain": [
       "\n",
       "  1   2   3   4   5 \n",
       " 30 133 156  80   3 "
      ]
     },
     "metadata": {},
     "output_type": "display_data"
    }
   ],
   "source": [
    "# A칼럼의, 최대값, 최소값, 빈도수\n",
    "max(test$A)\n",
    "min(test$A)\n",
    "table(test$A)"
   ]
  },
  {
   "cell_type": "code",
   "execution_count": 18,
   "metadata": {
    "vscode": {
     "languageId": "r"
    }
   },
   "outputs": [
    {
     "name": "stdout",
     "output_type": "stream",
     "text": [
      "A 칼럼의 빈도 분석 결과\n",
      "  1   2   3   4   5 \n",
      " 30 133 156  80   3 \n",
      "-------------\n",
      "B 칼럼의 빈도 분석 결과\n",
      "  1   2   3   4   5 \n",
      " 16 150  98 131   7 \n",
      "-------------\n",
      "C 칼럼의 빈도 분석 결과\n",
      "  1   2   3   4   5 \n",
      "  3  74  72 176  77 \n",
      "-------------\n",
      "D 칼럼의 빈도 분석 결과\n",
      "  1   2   3   4 \n",
      " 30 178 153  41 \n",
      "-------------\n",
      "E 칼럼의 빈도 분석 결과\n",
      "  1   2   3   4   5 \n",
      "  8  81 107 160  46 \n",
      "-------------\n"
     ]
    }
   ],
   "source": [
    "# 각 컬럼의 빈도수 구하기\n",
    "for(i in 1:ncol(test)){\n",
    "    cat(colnames(test)[i], \"칼럼의 빈도 분석 결과\")\n",
    "    print(table(test[,i]))\n",
    "    cat(\"-------------\\n\")\n",
    "}"
   ]
  },
  {
   "cell_type": "code",
   "execution_count": 28,
   "metadata": {
    "vscode": {
     "languageId": "r"
    }
   },
   "outputs": [
    {
     "name": "stdout",
     "output_type": "stream",
     "text": [
      "A 칼럼의 빈도 분석 결과\n",
      "최대값 : 156 , 최소값 : 3 \n",
      "-------------\n",
      "B 칼럼의 빈도 분석 결과\n",
      "최대값 : 150 , 최소값 : 7 \n",
      "-------------\n",
      "C 칼럼의 빈도 분석 결과\n",
      "최대값 : 176 , 최소값 : 3 \n",
      "-------------\n",
      "D 칼럼의 빈도 분석 결과\n",
      "최대값 : 178 , 최소값 : 30 \n",
      "-------------\n",
      "E 칼럼의 빈도 분석 결과\n",
      "최대값 : 160 , 최소값 : 8 \n",
      "-------------\n"
     ]
    }
   ],
   "source": [
    "# 각 컬럼의 빈도수 구하기\n",
    "for(i in 1:ncol(test)){\n",
    "    cat(colnames(test)[i], \"칼럼의 빈도 분석 결과\\n\")\n",
    "    cat(\"최대값 :\", max(table(test[,i])), \", 최소값 :\", min(table(test[,i])), \"\\n\")\n",
    "    cat(\"-------------\\n\")\n",
    "}"
   ]
  },
  {
   "cell_type": "markdown",
   "metadata": {},
   "source": [
    "### 결측치(NA) 자료 평균 계산"
   ]
  },
  {
   "cell_type": "code",
   "execution_count": 29,
   "metadata": {
    "vscode": {
     "languageId": "r"
    }
   },
   "outputs": [],
   "source": [
    "data <- c(10, 20, 5, 4, 40, 7, NA, 6, 3, NA, 2, NA)"
   ]
  },
  {
   "cell_type": "code",
   "execution_count": 30,
   "metadata": {
    "vscode": {
     "languageId": "r"
    }
   },
   "outputs": [
    {
     "data": {
      "text/html": [
       "&lt;NA&gt;"
      ],
      "text/latex": [
       "<NA>"
      ],
      "text/markdown": [
       "&lt;NA&gt;"
      ],
      "text/plain": [
       "[1] NA"
      ]
     },
     "metadata": {},
     "output_type": "display_data"
    }
   ],
   "source": [
    "mean(data)"
   ]
  },
  {
   "cell_type": "code",
   "execution_count": 35,
   "metadata": {
    "vscode": {
     "languageId": "r"
    }
   },
   "outputs": [
    {
     "data": {
      "text/html": [
       "3"
      ],
      "text/latex": [
       "3"
      ],
      "text/markdown": [
       "3"
      ],
      "text/plain": [
       "[1] 3"
      ]
     },
     "metadata": {},
     "output_type": "display_data"
    },
    {
     "data": {
      "text/plain": [
       "\n",
       "FALSE  TRUE \n",
       "    9     3 "
      ]
     },
     "metadata": {},
     "output_type": "display_data"
    },
    {
     "data": {
      "text/html": [
       "<strong>TRUE:</strong> 3"
      ],
      "text/latex": [
       "\\textbf{TRUE:} 3"
      ],
      "text/markdown": [
       "**TRUE:** 3"
      ],
      "text/plain": [
       "TRUE \n",
       "   3 "
      ]
     },
     "metadata": {},
     "output_type": "display_data"
    }
   ],
   "source": [
    "# NA의 갯수 구하기\n",
    "sum(is.na(data))\n",
    "\n",
    "table(is.na(data))\n",
    "table(is.na(data))[2]"
   ]
  },
  {
   "cell_type": "code",
   "execution_count": 38,
   "metadata": {
    "vscode": {
     "languageId": "r"
    }
   },
   "outputs": [
    {
     "data": {
      "text/html": [
       "10.7777777777778"
      ],
      "text/latex": [
       "10.7777777777778"
      ],
      "text/markdown": [
       "10.7777777777778"
      ],
      "text/plain": [
       "[1] 10.77778"
      ]
     },
     "metadata": {},
     "output_type": "display_data"
    }
   ],
   "source": [
    "# 결측치를 무조건 제거하면 통계량을 얻을 수 없으며, 데이터의 손실로 문제 발생\n",
    "# 결츨치를 제거하고 평균 구하기\n",
    "mean(data, na.rm = T)"
   ]
  },
  {
   "cell_type": "code",
   "execution_count": 41,
   "metadata": {
    "vscode": {
     "languageId": "r"
    }
   },
   "outputs": [
    {
     "data": {
      "text/html": [
       "<style>\n",
       ".list-inline {list-style: none; margin:0; padding: 0}\n",
       ".list-inline>li {display: inline-block}\n",
       ".list-inline>li:not(:last-child)::after {content: \"\\00b7\"; padding: 0 .5ex}\n",
       "</style>\n",
       "<ol class=list-inline><li>10</li><li>20</li><li>5</li><li>4</li><li>40</li><li>7</li><li>0</li><li>6</li><li>3</li><li>0</li><li>2</li><li>0</li></ol>\n"
      ],
      "text/latex": [
       "\\begin{enumerate*}\n",
       "\\item 10\n",
       "\\item 20\n",
       "\\item 5\n",
       "\\item 4\n",
       "\\item 40\n",
       "\\item 7\n",
       "\\item 0\n",
       "\\item 6\n",
       "\\item 3\n",
       "\\item 0\n",
       "\\item 2\n",
       "\\item 0\n",
       "\\end{enumerate*}\n"
      ],
      "text/markdown": [
       "1. 10\n",
       "2. 20\n",
       "3. 5\n",
       "4. 4\n",
       "5. 40\n",
       "6. 7\n",
       "7. 0\n",
       "8. 6\n",
       "9. 3\n",
       "10. 0\n",
       "11. 2\n",
       "12. 0\n",
       "\n",
       "\n"
      ],
      "text/plain": [
       " [1] 10 20  5  4 40  7  0  6  3  0  2  0"
      ]
     },
     "metadata": {},
     "output_type": "display_data"
    },
    {
     "data": {
      "text/html": [
       "8.08333333333333"
      ],
      "text/latex": [
       "8.08333333333333"
      ],
      "text/markdown": [
       "8.08333333333333"
      ],
      "text/plain": [
       "[1] 8.083333"
      ]
     },
     "metadata": {},
     "output_type": "display_data"
    }
   ],
   "source": [
    "# 1) NA를 0으로 대체\n",
    "data_0 <- ifelse(is.na(data), 0, data)\n",
    "data_0\n",
    "mean(data_0)"
   ]
  },
  {
   "cell_type": "code",
   "execution_count": 43,
   "metadata": {
    "vscode": {
     "languageId": "r"
    }
   },
   "outputs": [
    {
     "data": {
      "text/html": [
       "<style>\n",
       ".list-inline {list-style: none; margin:0; padding: 0}\n",
       ".list-inline>li {display: inline-block}\n",
       ".list-inline>li:not(:last-child)::after {content: \"\\00b7\"; padding: 0 .5ex}\n",
       "</style>\n",
       "<ol class=list-inline><li>10</li><li>20</li><li>5</li><li>4</li><li>40</li><li>7</li><li>10.7777777777778</li><li>6</li><li>3</li><li>10.7777777777778</li><li>2</li><li>10.7777777777778</li></ol>\n"
      ],
      "text/latex": [
       "\\begin{enumerate*}\n",
       "\\item 10\n",
       "\\item 20\n",
       "\\item 5\n",
       "\\item 4\n",
       "\\item 40\n",
       "\\item 7\n",
       "\\item 10.7777777777778\n",
       "\\item 6\n",
       "\\item 3\n",
       "\\item 10.7777777777778\n",
       "\\item 2\n",
       "\\item 10.7777777777778\n",
       "\\end{enumerate*}\n"
      ],
      "text/markdown": [
       "1. 10\n",
       "2. 20\n",
       "3. 5\n",
       "4. 4\n",
       "5. 40\n",
       "6. 7\n",
       "7. 10.7777777777778\n",
       "8. 6\n",
       "9. 3\n",
       "10. 10.7777777777778\n",
       "11. 2\n",
       "12. 10.7777777777778\n",
       "\n",
       "\n"
      ],
      "text/plain": [
       " [1] 10.00000 20.00000  5.00000  4.00000 40.00000  7.00000 10.77778  6.00000\n",
       " [9]  3.00000 10.77778  2.00000 10.77778"
      ]
     },
     "metadata": {},
     "output_type": "display_data"
    },
    {
     "data": {
      "text/html": [
       "10.7777777777778"
      ],
      "text/latex": [
       "10.7777777777778"
      ],
      "text/markdown": [
       "10.7777777777778"
      ],
      "text/plain": [
       "[1] 10.77778"
      ]
     },
     "metadata": {},
     "output_type": "display_data"
    }
   ],
   "source": [
    "# 2) NA를 평균으로 대체\n",
    "data_mean <- ifelse(is.na(data), mean(data, na.rm = T), data)\n",
    "data_mean\n",
    "mean(data_mean)"
   ]
  },
  {
   "cell_type": "code",
   "execution_count": 48,
   "metadata": {
    "vscode": {
     "languageId": "r"
    }
   },
   "outputs": [
    {
     "data": {
      "text/html": [
       "<style>\n",
       ".list-inline {list-style: none; margin:0; padding: 0}\n",
       ".list-inline>li {display: inline-block}\n",
       ".list-inline>li:not(:last-child)::after {content: \"\\00b7\"; padding: 0 .5ex}\n",
       "</style>\n",
       "<ol class=list-inline><li>10</li><li>20</li><li>5</li><li>4</li><li>40</li><li>7</li><li>6</li><li>6</li><li>3</li><li>6</li><li>2</li><li>6</li></ol>\n"
      ],
      "text/latex": [
       "\\begin{enumerate*}\n",
       "\\item 10\n",
       "\\item 20\n",
       "\\item 5\n",
       "\\item 4\n",
       "\\item 40\n",
       "\\item 7\n",
       "\\item 6\n",
       "\\item 6\n",
       "\\item 3\n",
       "\\item 6\n",
       "\\item 2\n",
       "\\item 6\n",
       "\\end{enumerate*}\n"
      ],
      "text/markdown": [
       "1. 10\n",
       "2. 20\n",
       "3. 5\n",
       "4. 4\n",
       "5. 40\n",
       "6. 7\n",
       "7. 6\n",
       "8. 6\n",
       "9. 3\n",
       "10. 6\n",
       "11. 2\n",
       "12. 6\n",
       "\n",
       "\n"
      ],
      "text/plain": [
       " [1] 10 20  5  4 40  7  6  6  3  6  2  6"
      ]
     },
     "metadata": {},
     "output_type": "display_data"
    },
    {
     "data": {
      "text/html": [
       "9.58333333333333"
      ],
      "text/latex": [
       "9.58333333333333"
      ],
      "text/markdown": [
       "9.58333333333333"
      ],
      "text/plain": [
       "[1] 9.583333"
      ]
     },
     "metadata": {},
     "output_type": "display_data"
    }
   ],
   "source": [
    "# 3) NA를 중앙값으로 대체 ## 머신러닝이 아닐경우 중앙값 ## 머신러닝이면 추세를 알아서 대입\n",
    "data_median <- ifelse(is.na(data), median(data, na.rm = T), data)\n",
    "data_median\n",
    "mean(data_median)"
   ]
  },
  {
   "cell_type": "code",
   "execution_count": 49,
   "metadata": {
    "vscode": {
     "languageId": "r"
    }
   },
   "outputs": [
    {
     "data": {
      "text/html": [
       "<style>\n",
       ".list-inline {list-style: none; margin:0; padding: 0}\n",
       ".list-inline>li {display: inline-block}\n",
       ".list-inline>li:not(:last-child)::after {content: \"\\00b7\"; padding: 0 .5ex}\n",
       "</style>\n",
       "<ol class=list-inline><li>10</li><li>20</li><li>5</li><li>4</li><li>40</li><li>7</li><li>40</li><li>6</li><li>3</li><li>40</li><li>2</li><li>40</li></ol>\n"
      ],
      "text/latex": [
       "\\begin{enumerate*}\n",
       "\\item 10\n",
       "\\item 20\n",
       "\\item 5\n",
       "\\item 4\n",
       "\\item 40\n",
       "\\item 7\n",
       "\\item 40\n",
       "\\item 6\n",
       "\\item 3\n",
       "\\item 40\n",
       "\\item 2\n",
       "\\item 40\n",
       "\\end{enumerate*}\n"
      ],
      "text/markdown": [
       "1. 10\n",
       "2. 20\n",
       "3. 5\n",
       "4. 4\n",
       "5. 40\n",
       "6. 7\n",
       "7. 40\n",
       "8. 6\n",
       "9. 3\n",
       "10. 40\n",
       "11. 2\n",
       "12. 40\n",
       "\n",
       "\n"
      ],
      "text/plain": [
       " [1] 10 20  5  4 40  7 40  6  3 40  2 40"
      ]
     },
     "metadata": {},
     "output_type": "display_data"
    },
    {
     "data": {
      "text/html": [
       "18.0833333333333"
      ],
      "text/latex": [
       "18.0833333333333"
      ],
      "text/markdown": [
       "18.0833333333333"
      ],
      "text/plain": [
       "[1] 18.08333"
      ]
     },
     "metadata": {},
     "output_type": "display_data"
    }
   ],
   "source": [
    "# 4) NA를 최대값으로 대체\n",
    "data_max <- ifelse(is.na(data), max(data, na.rm = T), data)\n",
    "data_max\n",
    "mean(data_max)"
   ]
  },
  {
   "cell_type": "code",
   "execution_count": 50,
   "metadata": {
    "vscode": {
     "languageId": "r"
    }
   },
   "outputs": [
    {
     "data": {
      "text/html": [
       "<style>\n",
       ".list-inline {list-style: none; margin:0; padding: 0}\n",
       ".list-inline>li {display: inline-block}\n",
       ".list-inline>li:not(:last-child)::after {content: \"\\00b7\"; padding: 0 .5ex}\n",
       "</style>\n",
       "<ol class=list-inline><li>10</li><li>20</li><li>5</li><li>4</li><li>40</li><li>7</li><li>2</li><li>6</li><li>3</li><li>2</li><li>2</li><li>2</li></ol>\n"
      ],
      "text/latex": [
       "\\begin{enumerate*}\n",
       "\\item 10\n",
       "\\item 20\n",
       "\\item 5\n",
       "\\item 4\n",
       "\\item 40\n",
       "\\item 7\n",
       "\\item 2\n",
       "\\item 6\n",
       "\\item 3\n",
       "\\item 2\n",
       "\\item 2\n",
       "\\item 2\n",
       "\\end{enumerate*}\n"
      ],
      "text/markdown": [
       "1. 10\n",
       "2. 20\n",
       "3. 5\n",
       "4. 4\n",
       "5. 40\n",
       "6. 7\n",
       "7. 2\n",
       "8. 6\n",
       "9. 3\n",
       "10. 2\n",
       "11. 2\n",
       "12. 2\n",
       "\n",
       "\n"
      ],
      "text/plain": [
       " [1] 10 20  5  4 40  7  2  6  3  2  2  2"
      ]
     },
     "metadata": {},
     "output_type": "display_data"
    },
    {
     "data": {
      "text/html": [
       "8.58333333333333"
      ],
      "text/latex": [
       "8.58333333333333"
      ],
      "text/markdown": [
       "8.58333333333333"
      ],
      "text/plain": [
       "[1] 8.583333"
      ]
     },
     "metadata": {},
     "output_type": "display_data"
    }
   ],
   "source": [
    "# 5) NA를 최소값으로 대체\n",
    "data_min <- ifelse(is.na(data), min(data, na.rm = T), data)\n",
    "data_min\n",
    "mean(data_min)"
   ]
  },
  {
   "cell_type": "code",
   "execution_count": null,
   "metadata": {
    "vscode": {
     "languageId": "r"
    }
   },
   "outputs": [],
   "source": []
  }
 ],
 "metadata": {
  "kernelspec": {
   "display_name": "R",
   "language": "R",
   "name": "r"
  },
  "language_info": {
   "codemirror_mode": "r",
   "file_extension": ".r",
   "mimetype": "text/x-r-source",
   "name": "R",
   "pygments_lexer": "r",
   "version": "4.4.1"
  }
 },
 "nbformat": 4,
 "nbformat_minor": 2
}

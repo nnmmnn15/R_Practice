{
 "cells": [
  {
   "cell_type": "code",
   "execution_count": 1,
   "metadata": {
    "vscode": {
     "languageId": "r"
    }
   },
   "outputs": [
    {
     "data": {
      "text/html": [
       "'ko_KR.UTF-8/ko_KR.UTF-8/ko_KR.UTF-8/C/ko_KR.UTF-8/C'"
      ],
      "text/latex": [
       "'ko\\_KR.UTF-8/ko\\_KR.UTF-8/ko\\_KR.UTF-8/C/ko\\_KR.UTF-8/C'"
      ],
      "text/markdown": [
       "'ko_KR.UTF-8/ko_KR.UTF-8/ko_KR.UTF-8/C/ko_KR.UTF-8/C'"
      ],
      "text/plain": [
       "[1] \"ko_KR.UTF-8/ko_KR.UTF-8/ko_KR.UTF-8/C/ko_KR.UTF-8/C\""
      ]
     },
     "metadata": {},
     "output_type": "display_data"
    }
   ],
   "source": [
    "Sys.setlocale(category = \"LC_ALL\", locale = \"ko_KR.UTF-8\")\n"
   ]
  },
  {
   "cell_type": "markdown",
   "metadata": {},
   "source": [
    "### 조건문(Conditional Statement)"
   ]
  },
  {
   "cell_type": "code",
   "execution_count": 67,
   "metadata": {
    "vscode": {
     "languageId": "r"
    }
   },
   "outputs": [
    {
     "name": "stdout",
     "output_type": "stream",
     "text": [
      "x < runif()\n",
      "75 \n",
      "[1] \"--- End ---\"\n"
     ]
    }
   ],
   "source": [
    "x <- 10\n",
    "y <- trunc(runif(1) * 100)\n",
    "\n",
    "if (x > y) {\n",
    "    cat(\"x > runif()\\n\")\n",
    "    cat(y, \"\\n\")\n",
    "} else if (x < y) {\n",
    "    cat(\"x < runif()\\n\")\n",
    "    cat(y, \"\\n\")\n",
    "} else {\n",
    "    cat(\"x <= 10 \\n\")\n",
    "    cat(y, \"\\n\")\n",
    "}\n",
    "\n",
    "print(\"--- End ---\")\n"
   ]
  },
  {
   "cell_type": "markdown",
   "metadata": {},
   "source": [
    "### 홀수 짝수 구분"
   ]
  },
  {
   "cell_type": "code",
   "execution_count": 72,
   "metadata": {
    "vscode": {
     "languageId": "r"
    }
   },
   "outputs": [
    {
     "name": "stdout",
     "output_type": "stream",
     "text": [
      "8 는 짝수 입니다"
     ]
    }
   ],
   "source": [
    "a <- 8\n",
    "# a <- c(8, 9, 10)  # 조건문은 벡터를 처리하지 못함\n",
    "\n",
    "if (a %% 2 == 0) {\n",
    "    cat(a, \"는 짝수 입니다\")\n",
    "} else {\n",
    "    cat(a, \"는 홀수 입니다\")\n",
    "}\n"
   ]
  },
  {
   "cell_type": "code",
   "execution_count": 74,
   "metadata": {
    "vscode": {
     "languageId": "r"
    }
   },
   "outputs": [
    {
     "data": {
      "text/html": [
       "<style>\n",
       ".list-inline {list-style: none; margin:0; padding: 0}\n",
       ".list-inline>li {display: inline-block}\n",
       ".list-inline>li:not(:last-child)::after {content: \"\\00b7\"; padding: 0 .5ex}\n",
       "</style>\n",
       "<ol class=list-inline><li>'8 :짝수'</li><li>'9 :홀수'</li><li>'10 :짝수'</li></ol>\n"
      ],
      "text/latex": [
       "\\begin{enumerate*}\n",
       "\\item '8 :짝수'\n",
       "\\item '9 :홀수'\n",
       "\\item '10 :짝수'\n",
       "\\end{enumerate*}\n"
      ],
      "text/markdown": [
       "1. '8 :짝수'\n",
       "2. '9 :홀수'\n",
       "3. '10 :짝수'\n",
       "\n",
       "\n"
      ],
      "text/plain": [
       "[1] \"8 :짝수\"  \"9 :홀수\"  \"10 :짝수\""
      ]
     },
     "metadata": {},
     "output_type": "display_data"
    }
   ],
   "source": [
    "a <- c(8, 9, 10)\n",
    "\n",
    "# ifelse 는 3항 연산자\n",
    "# 3항 연산자는 벡터 출력 가능\n",
    "ifelse(a %% 2 == 0, paste(a, \":짝수\"), paste(a, \":홀수\"))\n"
   ]
  },
  {
   "cell_type": "markdown",
   "metadata": {},
   "source": [
    "### readline"
   ]
  },
  {
   "cell_type": "code",
   "execution_count": 82,
   "metadata": {
    "vscode": {
     "languageId": "r"
    }
   },
   "outputs": [
    {
     "name": "stdout",
     "output_type": "stream",
     "text": [
      "[1] 11\n"
     ]
    },
    {
     "data": {
      "text/html": [
       "'입력하신 숫자는 11 이고 홀수 입니다'"
      ],
      "text/latex": [
       "'입력하신 숫자는 11 이고 홀수 입니다'"
      ],
      "text/markdown": [
       "'입력하신 숫자는 11 이고 홀수 입니다'"
      ],
      "text/plain": [
       "[1] \"입력하신 숫자는 11 이고 홀수 입니다\""
      ]
     },
     "metadata": {},
     "output_type": "display_data"
    }
   ],
   "source": [
    "# 사용자가 입력한 정수가 홀수 인지 짝수인지 판단하기\n",
    "num1 <- as.integer(readline(\"숫자를 입력 하세요 :\"))\n",
    "print(num1)\n",
    "ifelse(num1 %% 2 == 0, paste(\"입력하신 숫자는\", num1, \"이고 짝수 입니다\"), paste(\"입력하신 숫자는\", num1, \"이고 홀수 입니다\"))\n"
   ]
  },
  {
   "cell_type": "markdown",
   "metadata": {},
   "source": [
    "---\n",
    "### csv file을 불러서 사용 "
   ]
  },
  {
   "cell_type": "code",
   "execution_count": 83,
   "metadata": {
    "vscode": {
     "languageId": "r"
    }
   },
   "outputs": [
    {
     "data": {
      "text/html": [
       "<table class=\"dataframe\">\n",
       "<caption>A data.frame: 6 x 5</caption>\n",
       "<thead>\n",
       "\t<tr><th></th><th scope=col>q1</th><th scope=col>q2</th><th scope=col>q3</th><th scope=col>q4</th><th scope=col>q5</th></tr>\n",
       "\t<tr><th></th><th scope=col>&lt;int&gt;</th><th scope=col>&lt;int&gt;</th><th scope=col>&lt;int&gt;</th><th scope=col>&lt;int&gt;</th><th scope=col>&lt;int&gt;</th></tr>\n",
       "</thead>\n",
       "<tbody>\n",
       "\t<tr><th scope=row>1</th><td>2</td><td>4</td><td>4</td><td>2</td><td>2</td></tr>\n",
       "\t<tr><th scope=row>2</th><td>1</td><td>2</td><td>2</td><td>2</td><td>2</td></tr>\n",
       "\t<tr><th scope=row>3</th><td>2</td><td>3</td><td>4</td><td>3</td><td>3</td></tr>\n",
       "\t<tr><th scope=row>4</th><td>3</td><td>5</td><td>5</td><td>3</td><td>3</td></tr>\n",
       "\t<tr><th scope=row>5</th><td>3</td><td>2</td><td>4</td><td>4</td><td>4</td></tr>\n",
       "\t<tr><th scope=row>6</th><td>4</td><td>3</td><td>3</td><td>4</td><td>2</td></tr>\n",
       "</tbody>\n",
       "</table>\n"
      ],
      "text/latex": [
       "A data.frame: 6 x 5\n",
       "\\begin{tabular}{r|lllll}\n",
       "  & q1 & q2 & q3 & q4 & q5\\\\\n",
       "  & <int> & <int> & <int> & <int> & <int>\\\\\n",
       "\\hline\n",
       "\t1 & 2 & 4 & 4 & 2 & 2\\\\\n",
       "\t2 & 1 & 2 & 2 & 2 & 2\\\\\n",
       "\t3 & 2 & 3 & 4 & 3 & 3\\\\\n",
       "\t4 & 3 & 5 & 5 & 3 & 3\\\\\n",
       "\t5 & 3 & 2 & 4 & 4 & 4\\\\\n",
       "\t6 & 4 & 3 & 3 & 4 & 2\\\\\n",
       "\\end{tabular}\n"
      ],
      "text/markdown": [
       "\n",
       "A data.frame: 6 x 5\n",
       "\n",
       "| <!--/--> | q1 &lt;int&gt; | q2 &lt;int&gt; | q3 &lt;int&gt; | q4 &lt;int&gt; | q5 &lt;int&gt; |\n",
       "|---|---|---|---|---|---|\n",
       "| 1 | 2 | 4 | 4 | 2 | 2 |\n",
       "| 2 | 1 | 2 | 2 | 2 | 2 |\n",
       "| 3 | 2 | 3 | 4 | 3 | 3 |\n",
       "| 4 | 3 | 5 | 5 | 3 | 3 |\n",
       "| 5 | 3 | 2 | 4 | 4 | 4 |\n",
       "| 6 | 4 | 3 | 3 | 4 | 2 |\n",
       "\n"
      ],
      "text/plain": [
       "  q1 q2 q3 q4 q5\n",
       "1 2  4  4  2  2 \n",
       "2 1  2  2  2  2 \n",
       "3 2  3  4  3  3 \n",
       "4 3  5  5  3  3 \n",
       "5 3  2  4  4  4 \n",
       "6 4  3  3  4  2 "
      ]
     },
     "metadata": {},
     "output_type": "display_data"
    }
   ],
   "source": [
    "# excel.csv 불러오기\n",
    "excel <- read.csv(\"../Data/excel.csv\")\n",
    "head(excel)"
   ]
  },
  {
   "cell_type": "code",
   "execution_count": 93,
   "metadata": {
    "vscode": {
     "languageId": "r"
    }
   },
   "outputs": [
    {
     "data": {
      "text/html": [
       "'numeric'"
      ],
      "text/latex": [
       "'numeric'"
      ],
      "text/markdown": [
       "'numeric'"
      ],
      "text/plain": [
       "[1] \"numeric\""
      ]
     },
     "metadata": {},
     "output_type": "display_data"
    }
   ],
   "source": [
    "# excel의 q1컬럼에서 data가 3보다 크면 data의 제곱근을 출력하고 아니면 원래 data를 출력하기\n",
    "# excel$q1\n",
    "\n",
    "# excel$q1 > 3    \n",
    "class(ifelse(excel$q1 >= 3, sqrt(excel$q1), excel$q1))\n"
   ]
  },
  {
   "cell_type": "code",
   "execution_count": 96,
   "metadata": {
    "vscode": {
     "languageId": "r"
    }
   },
   "outputs": [
    {
     "data": {
      "text/html": [
       "<table class=\"dataframe\">\n",
       "<caption>A data.frame: 402 x 6</caption>\n",
       "<thead>\n",
       "\t<tr><th scope=col>q1</th><th scope=col>q2</th><th scope=col>q3</th><th scope=col>q4</th><th scope=col>q5</th><th scope=col>q6</th></tr>\n",
       "\t<tr><th scope=col>&lt;int&gt;</th><th scope=col>&lt;int&gt;</th><th scope=col>&lt;int&gt;</th><th scope=col>&lt;int&gt;</th><th scope=col>&lt;int&gt;</th><th scope=col>&lt;dbl&gt;</th></tr>\n",
       "</thead>\n",
       "<tbody>\n",
       "\t<tr><td>2</td><td>4</td><td>4</td><td>2</td><td>2</td><td>2.000000</td></tr>\n",
       "\t<tr><td>1</td><td>2</td><td>2</td><td>2</td><td>2</td><td>1.000000</td></tr>\n",
       "\t<tr><td>2</td><td>3</td><td>4</td><td>3</td><td>3</td><td>2.000000</td></tr>\n",
       "\t<tr><td>3</td><td>5</td><td>5</td><td>3</td><td>3</td><td>1.732051</td></tr>\n",
       "\t<tr><td>3</td><td>2</td><td>4</td><td>4</td><td>4</td><td>1.732051</td></tr>\n",
       "\t<tr><td>4</td><td>3</td><td>3</td><td>4</td><td>2</td><td>2.000000</td></tr>\n",
       "\t<tr><td>3</td><td>4</td><td>4</td><td>2</td><td>2</td><td>1.732051</td></tr>\n",
       "\t<tr><td>4</td><td>2</td><td>4</td><td>4</td><td>4</td><td>2.000000</td></tr>\n",
       "\t<tr><td>4</td><td>4</td><td>5</td><td>3</td><td>4</td><td>2.000000</td></tr>\n",
       "\t<tr><td>4</td><td>2</td><td>4</td><td>2</td><td>3</td><td>2.000000</td></tr>\n",
       "\t<tr><td>4</td><td>4</td><td>4</td><td>3</td><td>3</td><td>2.000000</td></tr>\n",
       "\t<tr><td>3</td><td>1</td><td>4</td><td>3</td><td>4</td><td>1.732051</td></tr>\n",
       "\t<tr><td>3</td><td>2</td><td>4</td><td>3</td><td>4</td><td>1.732051</td></tr>\n",
       "\t<tr><td>3</td><td>4</td><td>3</td><td>4</td><td>5</td><td>1.732051</td></tr>\n",
       "\t<tr><td>1</td><td>3</td><td>2</td><td>2</td><td>3</td><td>1.000000</td></tr>\n",
       "\t<tr><td>3</td><td>4</td><td>2</td><td>3</td><td>4</td><td>1.732051</td></tr>\n",
       "\t<tr><td>3</td><td>2</td><td>1</td><td>1</td><td>3</td><td>1.732051</td></tr>\n",
       "\t<tr><td>3</td><td>3</td><td>3</td><td>4</td><td>3</td><td>1.732051</td></tr>\n",
       "\t<tr><td>2</td><td>2</td><td>4</td><td>3</td><td>2</td><td>2.000000</td></tr>\n",
       "\t<tr><td>3</td><td>4</td><td>4</td><td>3</td><td>4</td><td>1.732051</td></tr>\n",
       "\t<tr><td>3</td><td>4</td><td>5</td><td>2</td><td>4</td><td>1.732051</td></tr>\n",
       "\t<tr><td>4</td><td>3</td><td>4</td><td>2</td><td>3</td><td>2.000000</td></tr>\n",
       "\t<tr><td>2</td><td>2</td><td>2</td><td>1</td><td>4</td><td>2.000000</td></tr>\n",
       "\t<tr><td>2</td><td>3</td><td>4</td><td>3</td><td>5</td><td>2.000000</td></tr>\n",
       "\t<tr><td>3</td><td>4</td><td>4</td><td>2</td><td>4</td><td>1.732051</td></tr>\n",
       "\t<tr><td>4</td><td>2</td><td>3</td><td>3</td><td>2</td><td>2.000000</td></tr>\n",
       "\t<tr><td>4</td><td>4</td><td>4</td><td>4</td><td>3</td><td>2.000000</td></tr>\n",
       "\t<tr><td>4</td><td>4</td><td>5</td><td>3</td><td>3</td><td>2.000000</td></tr>\n",
       "\t<tr><td>3</td><td>2</td><td>2</td><td>3</td><td>4</td><td>1.732051</td></tr>\n",
       "\t<tr><td>3</td><td>2</td><td>4</td><td>3</td><td>5</td><td>1.732051</td></tr>\n",
       "\t<tr><td>...</td><td>...</td><td>...</td><td>...</td><td>...</td><td>...</td></tr>\n",
       "\t<tr><td>4</td><td>4</td><td>3</td><td>4</td><td>5</td><td>2.000000</td></tr>\n",
       "\t<tr><td>2</td><td>3</td><td>4</td><td>3</td><td>3</td><td>2.000000</td></tr>\n",
       "\t<tr><td>2</td><td>4</td><td>5</td><td>3</td><td>5</td><td>2.000000</td></tr>\n",
       "\t<tr><td>3</td><td>3</td><td>4</td><td>2</td><td>3</td><td>1.732051</td></tr>\n",
       "\t<tr><td>3</td><td>2</td><td>2</td><td>2</td><td>3</td><td>1.732051</td></tr>\n",
       "\t<tr><td>3</td><td>2</td><td>4</td><td>2</td><td>3</td><td>1.732051</td></tr>\n",
       "\t<tr><td>2</td><td>4</td><td>5</td><td>2</td><td>2</td><td>2.000000</td></tr>\n",
       "\t<tr><td>1</td><td>2</td><td>3</td><td>1</td><td>3</td><td>1.000000</td></tr>\n",
       "\t<tr><td>3</td><td>1</td><td>2</td><td>3</td><td>5</td><td>1.732051</td></tr>\n",
       "\t<tr><td>4</td><td>3</td><td>3</td><td>3</td><td>5</td><td>2.000000</td></tr>\n",
       "\t<tr><td>3</td><td>4</td><td>4</td><td>3</td><td>3</td><td>1.732051</td></tr>\n",
       "\t<tr><td>3</td><td>4</td><td>3</td><td>4</td><td>3</td><td>1.732051</td></tr>\n",
       "\t<tr><td>2</td><td>2</td><td>2</td><td>2</td><td>4</td><td>2.000000</td></tr>\n",
       "\t<tr><td>4</td><td>3</td><td>5</td><td>4</td><td>2</td><td>2.000000</td></tr>\n",
       "\t<tr><td>3</td><td>2</td><td>3</td><td>3</td><td>4</td><td>1.732051</td></tr>\n",
       "\t<tr><td>2</td><td>4</td><td>4</td><td>3</td><td>2</td><td>2.000000</td></tr>\n",
       "\t<tr><td>3</td><td>2</td><td>2</td><td>1</td><td>4</td><td>1.732051</td></tr>\n",
       "\t<tr><td>3</td><td>2</td><td>4</td><td>2</td><td>4</td><td>1.732051</td></tr>\n",
       "\t<tr><td>1</td><td>2</td><td>2</td><td>2</td><td>2</td><td>1.000000</td></tr>\n",
       "\t<tr><td>3</td><td>2</td><td>4</td><td>3</td><td>4</td><td>1.732051</td></tr>\n",
       "\t<tr><td>2</td><td>4</td><td>4</td><td>3</td><td>4</td><td>2.000000</td></tr>\n",
       "\t<tr><td>4</td><td>3</td><td>5</td><td>3</td><td>2</td><td>2.000000</td></tr>\n",
       "\t<tr><td>3</td><td>1</td><td>2</td><td>1</td><td>1</td><td>1.732051</td></tr>\n",
       "\t<tr><td>3</td><td>4</td><td>4</td><td>3</td><td>2</td><td>1.732051</td></tr>\n",
       "\t<tr><td>2</td><td>3</td><td>5</td><td>2</td><td>4</td><td>2.000000</td></tr>\n",
       "\t<tr><td>4</td><td>3</td><td>3</td><td>2</td><td>4</td><td>2.000000</td></tr>\n",
       "\t<tr><td>2</td><td>4</td><td>4</td><td>2</td><td>3</td><td>2.000000</td></tr>\n",
       "\t<tr><td>2</td><td>2</td><td>5</td><td>2</td><td>4</td><td>2.000000</td></tr>\n",
       "\t<tr><td>2</td><td>3</td><td>4</td><td>2</td><td>4</td><td>2.000000</td></tr>\n",
       "\t<tr><td>2</td><td>2</td><td>4</td><td>2</td><td>4</td><td>2.000000</td></tr>\n",
       "</tbody>\n",
       "</table>\n"
      ],
      "text/latex": [
       "A data.frame: 402 x 6\n",
       "\\begin{tabular}{llllll}\n",
       " q1 & q2 & q3 & q4 & q5 & q6\\\\\n",
       " <int> & <int> & <int> & <int> & <int> & <dbl>\\\\\n",
       "\\hline\n",
       "\t 2 & 4 & 4 & 2 & 2 & 2.000000\\\\\n",
       "\t 1 & 2 & 2 & 2 & 2 & 1.000000\\\\\n",
       "\t 2 & 3 & 4 & 3 & 3 & 2.000000\\\\\n",
       "\t 3 & 5 & 5 & 3 & 3 & 1.732051\\\\\n",
       "\t 3 & 2 & 4 & 4 & 4 & 1.732051\\\\\n",
       "\t 4 & 3 & 3 & 4 & 2 & 2.000000\\\\\n",
       "\t 3 & 4 & 4 & 2 & 2 & 1.732051\\\\\n",
       "\t 4 & 2 & 4 & 4 & 4 & 2.000000\\\\\n",
       "\t 4 & 4 & 5 & 3 & 4 & 2.000000\\\\\n",
       "\t 4 & 2 & 4 & 2 & 3 & 2.000000\\\\\n",
       "\t 4 & 4 & 4 & 3 & 3 & 2.000000\\\\\n",
       "\t 3 & 1 & 4 & 3 & 4 & 1.732051\\\\\n",
       "\t 3 & 2 & 4 & 3 & 4 & 1.732051\\\\\n",
       "\t 3 & 4 & 3 & 4 & 5 & 1.732051\\\\\n",
       "\t 1 & 3 & 2 & 2 & 3 & 1.000000\\\\\n",
       "\t 3 & 4 & 2 & 3 & 4 & 1.732051\\\\\n",
       "\t 3 & 2 & 1 & 1 & 3 & 1.732051\\\\\n",
       "\t 3 & 3 & 3 & 4 & 3 & 1.732051\\\\\n",
       "\t 2 & 2 & 4 & 3 & 2 & 2.000000\\\\\n",
       "\t 3 & 4 & 4 & 3 & 4 & 1.732051\\\\\n",
       "\t 3 & 4 & 5 & 2 & 4 & 1.732051\\\\\n",
       "\t 4 & 3 & 4 & 2 & 3 & 2.000000\\\\\n",
       "\t 2 & 2 & 2 & 1 & 4 & 2.000000\\\\\n",
       "\t 2 & 3 & 4 & 3 & 5 & 2.000000\\\\\n",
       "\t 3 & 4 & 4 & 2 & 4 & 1.732051\\\\\n",
       "\t 4 & 2 & 3 & 3 & 2 & 2.000000\\\\\n",
       "\t 4 & 4 & 4 & 4 & 3 & 2.000000\\\\\n",
       "\t 4 & 4 & 5 & 3 & 3 & 2.000000\\\\\n",
       "\t 3 & 2 & 2 & 3 & 4 & 1.732051\\\\\n",
       "\t 3 & 2 & 4 & 3 & 5 & 1.732051\\\\\n",
       "\t ... & ... & ... & ... & ... & ...\\\\\n",
       "\t 4 & 4 & 3 & 4 & 5 & 2.000000\\\\\n",
       "\t 2 & 3 & 4 & 3 & 3 & 2.000000\\\\\n",
       "\t 2 & 4 & 5 & 3 & 5 & 2.000000\\\\\n",
       "\t 3 & 3 & 4 & 2 & 3 & 1.732051\\\\\n",
       "\t 3 & 2 & 2 & 2 & 3 & 1.732051\\\\\n",
       "\t 3 & 2 & 4 & 2 & 3 & 1.732051\\\\\n",
       "\t 2 & 4 & 5 & 2 & 2 & 2.000000\\\\\n",
       "\t 1 & 2 & 3 & 1 & 3 & 1.000000\\\\\n",
       "\t 3 & 1 & 2 & 3 & 5 & 1.732051\\\\\n",
       "\t 4 & 3 & 3 & 3 & 5 & 2.000000\\\\\n",
       "\t 3 & 4 & 4 & 3 & 3 & 1.732051\\\\\n",
       "\t 3 & 4 & 3 & 4 & 3 & 1.732051\\\\\n",
       "\t 2 & 2 & 2 & 2 & 4 & 2.000000\\\\\n",
       "\t 4 & 3 & 5 & 4 & 2 & 2.000000\\\\\n",
       "\t 3 & 2 & 3 & 3 & 4 & 1.732051\\\\\n",
       "\t 2 & 4 & 4 & 3 & 2 & 2.000000\\\\\n",
       "\t 3 & 2 & 2 & 1 & 4 & 1.732051\\\\\n",
       "\t 3 & 2 & 4 & 2 & 4 & 1.732051\\\\\n",
       "\t 1 & 2 & 2 & 2 & 2 & 1.000000\\\\\n",
       "\t 3 & 2 & 4 & 3 & 4 & 1.732051\\\\\n",
       "\t 2 & 4 & 4 & 3 & 4 & 2.000000\\\\\n",
       "\t 4 & 3 & 5 & 3 & 2 & 2.000000\\\\\n",
       "\t 3 & 1 & 2 & 1 & 1 & 1.732051\\\\\n",
       "\t 3 & 4 & 4 & 3 & 2 & 1.732051\\\\\n",
       "\t 2 & 3 & 5 & 2 & 4 & 2.000000\\\\\n",
       "\t 4 & 3 & 3 & 2 & 4 & 2.000000\\\\\n",
       "\t 2 & 4 & 4 & 2 & 3 & 2.000000\\\\\n",
       "\t 2 & 2 & 5 & 2 & 4 & 2.000000\\\\\n",
       "\t 2 & 3 & 4 & 2 & 4 & 2.000000\\\\\n",
       "\t 2 & 2 & 4 & 2 & 4 & 2.000000\\\\\n",
       "\\end{tabular}\n"
      ],
      "text/markdown": [
       "\n",
       "A data.frame: 402 x 6\n",
       "\n",
       "| q1 &lt;int&gt; | q2 &lt;int&gt; | q3 &lt;int&gt; | q4 &lt;int&gt; | q5 &lt;int&gt; | q6 &lt;dbl&gt; |\n",
       "|---|---|---|---|---|---|\n",
       "| 2 | 4 | 4 | 2 | 2 | 2.000000 |\n",
       "| 1 | 2 | 2 | 2 | 2 | 1.000000 |\n",
       "| 2 | 3 | 4 | 3 | 3 | 2.000000 |\n",
       "| 3 | 5 | 5 | 3 | 3 | 1.732051 |\n",
       "| 3 | 2 | 4 | 4 | 4 | 1.732051 |\n",
       "| 4 | 3 | 3 | 4 | 2 | 2.000000 |\n",
       "| 3 | 4 | 4 | 2 | 2 | 1.732051 |\n",
       "| 4 | 2 | 4 | 4 | 4 | 2.000000 |\n",
       "| 4 | 4 | 5 | 3 | 4 | 2.000000 |\n",
       "| 4 | 2 | 4 | 2 | 3 | 2.000000 |\n",
       "| 4 | 4 | 4 | 3 | 3 | 2.000000 |\n",
       "| 3 | 1 | 4 | 3 | 4 | 1.732051 |\n",
       "| 3 | 2 | 4 | 3 | 4 | 1.732051 |\n",
       "| 3 | 4 | 3 | 4 | 5 | 1.732051 |\n",
       "| 1 | 3 | 2 | 2 | 3 | 1.000000 |\n",
       "| 3 | 4 | 2 | 3 | 4 | 1.732051 |\n",
       "| 3 | 2 | 1 | 1 | 3 | 1.732051 |\n",
       "| 3 | 3 | 3 | 4 | 3 | 1.732051 |\n",
       "| 2 | 2 | 4 | 3 | 2 | 2.000000 |\n",
       "| 3 | 4 | 4 | 3 | 4 | 1.732051 |\n",
       "| 3 | 4 | 5 | 2 | 4 | 1.732051 |\n",
       "| 4 | 3 | 4 | 2 | 3 | 2.000000 |\n",
       "| 2 | 2 | 2 | 1 | 4 | 2.000000 |\n",
       "| 2 | 3 | 4 | 3 | 5 | 2.000000 |\n",
       "| 3 | 4 | 4 | 2 | 4 | 1.732051 |\n",
       "| 4 | 2 | 3 | 3 | 2 | 2.000000 |\n",
       "| 4 | 4 | 4 | 4 | 3 | 2.000000 |\n",
       "| 4 | 4 | 5 | 3 | 3 | 2.000000 |\n",
       "| 3 | 2 | 2 | 3 | 4 | 1.732051 |\n",
       "| 3 | 2 | 4 | 3 | 5 | 1.732051 |\n",
       "| ... | ... | ... | ... | ... | ... |\n",
       "| 4 | 4 | 3 | 4 | 5 | 2.000000 |\n",
       "| 2 | 3 | 4 | 3 | 3 | 2.000000 |\n",
       "| 2 | 4 | 5 | 3 | 5 | 2.000000 |\n",
       "| 3 | 3 | 4 | 2 | 3 | 1.732051 |\n",
       "| 3 | 2 | 2 | 2 | 3 | 1.732051 |\n",
       "| 3 | 2 | 4 | 2 | 3 | 1.732051 |\n",
       "| 2 | 4 | 5 | 2 | 2 | 2.000000 |\n",
       "| 1 | 2 | 3 | 1 | 3 | 1.000000 |\n",
       "| 3 | 1 | 2 | 3 | 5 | 1.732051 |\n",
       "| 4 | 3 | 3 | 3 | 5 | 2.000000 |\n",
       "| 3 | 4 | 4 | 3 | 3 | 1.732051 |\n",
       "| 3 | 4 | 3 | 4 | 3 | 1.732051 |\n",
       "| 2 | 2 | 2 | 2 | 4 | 2.000000 |\n",
       "| 4 | 3 | 5 | 4 | 2 | 2.000000 |\n",
       "| 3 | 2 | 3 | 3 | 4 | 1.732051 |\n",
       "| 2 | 4 | 4 | 3 | 2 | 2.000000 |\n",
       "| 3 | 2 | 2 | 1 | 4 | 1.732051 |\n",
       "| 3 | 2 | 4 | 2 | 4 | 1.732051 |\n",
       "| 1 | 2 | 2 | 2 | 2 | 1.000000 |\n",
       "| 3 | 2 | 4 | 3 | 4 | 1.732051 |\n",
       "| 2 | 4 | 4 | 3 | 4 | 2.000000 |\n",
       "| 4 | 3 | 5 | 3 | 2 | 2.000000 |\n",
       "| 3 | 1 | 2 | 1 | 1 | 1.732051 |\n",
       "| 3 | 4 | 4 | 3 | 2 | 1.732051 |\n",
       "| 2 | 3 | 5 | 2 | 4 | 2.000000 |\n",
       "| 4 | 3 | 3 | 2 | 4 | 2.000000 |\n",
       "| 2 | 4 | 4 | 2 | 3 | 2.000000 |\n",
       "| 2 | 2 | 5 | 2 | 4 | 2.000000 |\n",
       "| 2 | 3 | 4 | 2 | 4 | 2.000000 |\n",
       "| 2 | 2 | 4 | 2 | 4 | 2.000000 |\n",
       "\n"
      ],
      "text/plain": [
       "    q1  q2  q3  q4  q5  q6      \n",
       "1   2   4   4   2   2   2.000000\n",
       "2   1   2   2   2   2   1.000000\n",
       "3   2   3   4   3   3   2.000000\n",
       "4   3   5   5   3   3   1.732051\n",
       "5   3   2   4   4   4   1.732051\n",
       "6   4   3   3   4   2   2.000000\n",
       "7   3   4   4   2   2   1.732051\n",
       "8   4   2   4   4   4   2.000000\n",
       "9   4   4   5   3   4   2.000000\n",
       "10  4   2   4   2   3   2.000000\n",
       "11  4   4   4   3   3   2.000000\n",
       "12  3   1   4   3   4   1.732051\n",
       "13  3   2   4   3   4   1.732051\n",
       "14  3   4   3   4   5   1.732051\n",
       "15  1   3   2   2   3   1.000000\n",
       "16  3   4   2   3   4   1.732051\n",
       "17  3   2   1   1   3   1.732051\n",
       "18  3   3   3   4   3   1.732051\n",
       "19  2   2   4   3   2   2.000000\n",
       "20  3   4   4   3   4   1.732051\n",
       "21  3   4   5   2   4   1.732051\n",
       "22  4   3   4   2   3   2.000000\n",
       "23  2   2   2   1   4   2.000000\n",
       "24  2   3   4   3   5   2.000000\n",
       "25  3   4   4   2   4   1.732051\n",
       "26  4   2   3   3   2   2.000000\n",
       "27  4   4   4   4   3   2.000000\n",
       "28  4   4   5   3   3   2.000000\n",
       "29  3   2   2   3   4   1.732051\n",
       "30  3   2   4   3   5   1.732051\n",
       "... ... ... ... ... ... ...     \n",
       "373 4   4   3   4   5   2.000000\n",
       "374 2   3   4   3   3   2.000000\n",
       "375 2   4   5   3   5   2.000000\n",
       "376 3   3   4   2   3   1.732051\n",
       "377 3   2   2   2   3   1.732051\n",
       "378 3   2   4   2   3   1.732051\n",
       "379 2   4   5   2   2   2.000000\n",
       "380 1   2   3   1   3   1.000000\n",
       "381 3   1   2   3   5   1.732051\n",
       "382 4   3   3   3   5   2.000000\n",
       "383 3   4   4   3   3   1.732051\n",
       "384 3   4   3   4   3   1.732051\n",
       "385 2   2   2   2   4   2.000000\n",
       "386 4   3   5   4   2   2.000000\n",
       "387 3   2   3   3   4   1.732051\n",
       "388 2   4   4   3   2   2.000000\n",
       "389 3   2   2   1   4   1.732051\n",
       "390 3   2   4   2   4   1.732051\n",
       "391 1   2   2   2   2   1.000000\n",
       "392 3   2   4   3   4   1.732051\n",
       "393 2   4   4   3   4   2.000000\n",
       "394 4   3   5   3   2   2.000000\n",
       "395 3   1   2   1   1   1.732051\n",
       "396 3   4   4   3   2   1.732051\n",
       "397 2   3   5   2   4   2.000000\n",
       "398 4   3   3   2   4   2.000000\n",
       "399 2   4   4   2   3   2.000000\n",
       "400 2   2   5   2   4   2.000000\n",
       "401 2   3   4   2   4   2.000000\n",
       "402 2   2   4   2   4   2.000000"
      ]
     },
     "metadata": {},
     "output_type": "display_data"
    }
   ],
   "source": [
    "# head(excel)\n",
    "excel$q6 <- ifelse(excel$q1 >= 3, sqrt(excel$q1), excel$q1)\n",
    "excel"
   ]
  },
  {
   "cell_type": "code",
   "execution_count": null,
   "metadata": {
    "vscode": {
     "languageId": "r"
    }
   },
   "outputs": [],
   "source": []
  }
 ],
 "metadata": {
  "kernelspec": {
   "display_name": "R",
   "language": "R",
   "name": "r"
  },
  "language_info": {
   "codemirror_mode": "r",
   "file_extension": ".r",
   "mimetype": "text/x-r-source",
   "name": "R",
   "pygments_lexer": "r",
   "version": "4.4.1"
  }
 },
 "nbformat": 4,
 "nbformat_minor": 2
}

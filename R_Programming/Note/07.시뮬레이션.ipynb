{
 "cells": [
  {
   "cell_type": "code",
   "execution_count": 186,
   "metadata": {
    "vscode": {
     "languageId": "r"
    }
   },
   "outputs": [
    {
     "data": {
      "text/html": [
       "'ko_KR.UTF-8/ko_KR.UTF-8/ko_KR.UTF-8/C/ko_KR.UTF-8/C'"
      ],
      "text/latex": [
       "'ko\\_KR.UTF-8/ko\\_KR.UTF-8/ko\\_KR.UTF-8/C/ko\\_KR.UTF-8/C'"
      ],
      "text/markdown": [
       "'ko_KR.UTF-8/ko_KR.UTF-8/ko_KR.UTF-8/C/ko_KR.UTF-8/C'"
      ],
      "text/plain": [
       "[1] \"ko_KR.UTF-8/ko_KR.UTF-8/ko_KR.UTF-8/C/ko_KR.UTF-8/C\""
      ]
     },
     "metadata": {},
     "output_type": "display_data"
    }
   ],
   "source": [
    "## 지수 없애기\n",
    "options(scipen = 100)\n"
   ]
  },
  {
   "cell_type": "markdown",
   "metadata": {},
   "source": [
    "## 몬테카를로 시뮬레이션\n",
    ": Data가 없을때\n",
    "\n",
    "### 동전의 앞면 뒷면 시뮬레이션"
   ]
  },
  {
   "cell_type": "code",
   "execution_count": 9,
   "metadata": {
    "vscode": {
     "languageId": "r"
    }
   },
   "outputs": [
    {
     "name": "stdout",
     "output_type": "stream",
     "text": [
      "[1] \"뒷면\"\n"
     ]
    }
   ],
   "source": [
    "x <- runif(1)\n",
    "if(x <= 1/2){\n",
    "    result <- \"앞면\"\n",
    "}else{\n",
    "    result <- \"뒷면\"\n",
    "}\n",
    "\n",
    "print(result)"
   ]
  },
  {
   "cell_type": "code",
   "execution_count": 11,
   "metadata": {
    "vscode": {
     "languageId": "r"
    }
   },
   "outputs": [],
   "source": [
    "coin <- function(n){\n",
    "    count1 <- 0 # 앞면\n",
    "    count2 <- 0 # 뒷면\n",
    "\n",
    "    for(i in 1:n){\n",
    "        if(runif(1) <= 1/2){\n",
    "            count1 = count1 + 1\n",
    "        } else{\n",
    "            count2 = count2 + 1\n",
    "        }\n",
    "    }\n",
    "\n",
    "    cat(\"앞면 :\", count1, \"\\n\")\n",
    "    cat(\"뒷면 :\", count2, \"\\n\")\n",
    "    cat(\"-----------------\\n\")\n",
    "}"
   ]
  },
  {
   "cell_type": "code",
   "execution_count": 12,
   "metadata": {
    "vscode": {
     "languageId": "r"
    }
   },
   "outputs": [
    {
     "name": "stdout",
     "output_type": "stream",
     "text": [
      "앞면 : 6 \n",
      "뒷면 : 4 \n",
      "-----------------\n",
      "앞면 : 51 \n",
      "뒷면 : 49 \n",
      "-----------------\n",
      "앞면 : 510 \n",
      "뒷면 : 490 \n",
      "-----------------\n"
     ]
    },
    {
     "name": "stdout",
     "output_type": "stream",
     "text": [
      "앞면 : 4959 \n",
      "뒷면 : 5041 \n",
      "-----------------\n"
     ]
    }
   ],
   "source": [
    "coin(10)\n",
    "coin(100)\n",
    "coin(1000)\n",
    "coin(10000)"
   ]
  },
  {
   "cell_type": "markdown",
   "metadata": {},
   "source": [
    "### 가위바위보 시뮬레이션"
   ]
  },
  {
   "cell_type": "code",
   "execution_count": 191,
   "metadata": {
    "vscode": {
     "languageId": "r"
    }
   },
   "outputs": [],
   "source": [
    "rock <- function(n) {\n",
    "    handMotion <- rep(0, 3)\n",
    "    names(handMotion) <- c(\"가위\", \"바위\", \"보\")\n",
    "\n",
    "    for(i in 1:n){\n",
    "        x <- trunc(runif(1) * 3) + 1\n",
    "        handMotion[x] = handMotion[x] +1\n",
    "    }\n",
    "\n",
    "    for(i in 1:length(handMotion)){\n",
    "        cat(names(handMotion)[i],\":\\t\", handMotion[i], \"\\n\")\n",
    "    }\n",
    "    # cat(\"가위 :\\t\", handMotion[1], \"\\n\")\n",
    "    # cat(\"바위 :\\t\", handMotion[2], \"\\n\")\n",
    "    # cat(\"보 :\\t\", handMotion[3], \"\\n\")\n",
    "    cat(\"-----------------\\n\")\n",
    "}\n"
   ]
  },
  {
   "cell_type": "code",
   "execution_count": 192,
   "metadata": {
    "vscode": {
     "languageId": "r"
    }
   },
   "outputs": [
    {
     "name": "stdout",
     "output_type": "stream",
     "text": [
      "가위 :\t 3 \n",
      "바위 :\t 2 \n",
      "보 :\t 5 \n",
      "-----------------\n"
     ]
    },
    {
     "name": "stdout",
     "output_type": "stream",
     "text": [
      "가위 :\t 38 \n",
      "바위 :\t 30 \n",
      "보 :\t 32 \n",
      "-----------------\n",
      "가위 :\t 339 \n",
      "바위 :\t 339 \n",
      "보 :\t 322 \n",
      "-----------------\n",
      "가위 :\t 3370 \n",
      "바위 :\t 3332 \n",
      "보 :\t 3298 \n",
      "-----------------\n",
      "가위 :\t 33275 \n",
      "바위 :\t 33432 \n",
      "보 :\t 33293 \n",
      "-----------------\n"
     ]
    }
   ],
   "source": [
    "rock(10)\n",
    "rock(100)\n",
    "rock(1000)\n",
    "rock(10000)\n",
    "rock(100000)"
   ]
  },
  {
   "cell_type": "markdown",
   "metadata": {},
   "source": [
    "### 주사위 시뮬레이션"
   ]
  },
  {
   "cell_type": "code",
   "execution_count": 180,
   "metadata": {
    "vscode": {
     "languageId": "r"
    }
   },
   "outputs": [],
   "source": [
    "dice <- function(throw) {\n",
    "    # no_count <- c(0, 0, 0, 0, 0, 0)\n",
    "    no_count <- rep(0, 6)\n",
    "    for (i in 1:throw) {\n",
    "        no <- trunc((runif(1) * 6) + 1)\n",
    "        no_count[no] <- no_count[no] + 1\n",
    "    }\n",
    "\n",
    "    cat(\"Throw :\", throw, \"\\n\")\n",
    "    for (n in 1:length(no_count)) {\n",
    "        cat(\"No\", n, \"=>\", no_count[n], \"\\n\")\n",
    "    }\n",
    "    cat(\"--------------------\\n\")\n",
    "}\n"
   ]
  },
  {
   "cell_type": "code",
   "execution_count": 179,
   "metadata": {
    "vscode": {
     "languageId": "r"
    }
   },
   "outputs": [
    {
     "name": "stdout",
     "output_type": "stream",
     "text": [
      "Throw : 10 \n",
      "No 1 => 1 \n",
      "No 2 => 4 \n",
      "No 3 => 1 \n",
      "No 4 => 2 \n",
      "No 5 => 0 \n",
      "No 6 => 2 \n",
      "--------------------\n",
      "Throw : 100 \n",
      "No 1 => 23 \n",
      "No 2 => 19 \n",
      "No 3 => 16 \n",
      "No 4 => 18 \n",
      "No 5 => 9 \n",
      "No 6 => 15 \n",
      "--------------------\n"
     ]
    },
    {
     "name": "stdout",
     "output_type": "stream",
     "text": [
      "Throw : 1000 \n",
      "No 1 => 169 \n",
      "No 2 => 192 \n",
      "No 3 => 167 \n",
      "No 4 => 161 \n",
      "No 5 => 158 \n",
      "No 6 => 153 \n",
      "--------------------\n",
      "Throw : 10000 \n",
      "No 1 => 1648 \n",
      "No 2 => 1681 \n",
      "No 3 => 1708 \n",
      "No 4 => 1648 \n",
      "No 5 => 1727 \n",
      "No 6 => 1588 \n",
      "--------------------\n",
      "Throw : 1e+05 \n",
      "No 1 => 16589 \n",
      "No 2 => 16534 \n",
      "No 3 => 16941 \n",
      "No 4 => 16615 \n",
      "No 5 => 16608 \n",
      "No 6 => 16713 \n",
      "--------------------\n",
      "Throw : 1e+06 \n",
      "No 1 => 166305 \n",
      "No 2 => 166627 \n",
      "No 3 => 166666 \n",
      "No 4 => 166775 \n",
      "No 5 => 166773 \n",
      "No 6 => 166854 \n",
      "--------------------\n"
     ]
    }
   ],
   "source": [
    "dice(10)\n",
    "dice(100)\n",
    "dice(1000)\n",
    "dice(10000)\n",
    "dice(100000)\n",
    "dice(1000000)"
   ]
  },
  {
   "cell_type": "code",
   "execution_count": 166,
   "metadata": {
    "vscode": {
     "languageId": "r"
    }
   },
   "outputs": [
    {
     "data": {
      "text/html": [
       "3"
      ],
      "text/latex": [
       "3"
      ],
      "text/markdown": [
       "3"
      ],
      "text/plain": [
       "[1] 3"
      ]
     },
     "metadata": {},
     "output_type": "display_data"
    }
   ],
   "source": []
  }
 ],
 "metadata": {
  "kernelspec": {
   "display_name": "R",
   "language": "R",
   "name": "r"
  },
  "language_info": {
   "codemirror_mode": "r",
   "file_extension": ".r",
   "mimetype": "text/x-r-source",
   "name": "R",
   "pygments_lexer": "r",
   "version": "4.4.1"
  }
 },
 "nbformat": 4,
 "nbformat_minor": 2
}
